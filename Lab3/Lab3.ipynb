{
 "cells": [
  {
   "cell_type": "markdown",
   "id": "f8003ed1",
   "metadata": {},
   "source": [
    "## Лабораторная работа № 3\n",
    "### Андрюшина Мария, 932001\n",
    "### Аренда велосипедов"
   ]
  },
  {
   "cell_type": "code",
   "execution_count": 1,
   "id": "53217438",
   "metadata": {},
   "outputs": [],
   "source": [
    "import pandas as pd\n",
    "import numpy as np\n",
    "import seaborn as sns\n",
    "import matplotlib.pyplot as plt\n",
    "from sklearn import tree\n",
    "from sklearn.model_selection import GridSearchCV\n",
    "from sklearn.preprocessing import PolynomialFeatures\n",
    "from sklearn.model_selection import train_test_split\n",
    "from sklearn.preprocessing import MinMaxScaler\n",
    "from sklearn.linear_model import LinearRegression\n",
    "from sklearn.ensemble import RandomForestRegressor\n",
    "from sklearn.ensemble import GradientBoostingRegressor\n",
    "from sklearn.metrics import r2_score,mean_absolute_error,mean_squared_error"
   ]
  },
  {
   "cell_type": "code",
   "execution_count": 2,
   "id": "cd959edd",
   "metadata": {},
   "outputs": [],
   "source": [
    "import warnings\n",
    "warnings.filterwarnings('ignore')"
   ]
  },
  {
   "cell_type": "markdown",
   "id": "d586dcc2",
   "metadata": {},
   "source": [
    "### Работа с данными"
   ]
  },
  {
   "cell_type": "code",
   "execution_count": 3,
   "id": "709ac0c0",
   "metadata": {
    "scrolled": true
   },
   "outputs": [
    {
     "data": {
      "text/html": [
       "<div>\n",
       "<style scoped>\n",
       "    .dataframe tbody tr th:only-of-type {\n",
       "        vertical-align: middle;\n",
       "    }\n",
       "\n",
       "    .dataframe tbody tr th {\n",
       "        vertical-align: top;\n",
       "    }\n",
       "\n",
       "    .dataframe thead th {\n",
       "        text-align: right;\n",
       "    }\n",
       "</style>\n",
       "<table border=\"1\" class=\"dataframe\">\n",
       "  <thead>\n",
       "    <tr style=\"text-align: right;\">\n",
       "      <th></th>\n",
       "      <th>dteday</th>\n",
       "      <th>season</th>\n",
       "      <th>yr</th>\n",
       "      <th>mnth</th>\n",
       "      <th>hr</th>\n",
       "      <th>holiday</th>\n",
       "      <th>weekday</th>\n",
       "      <th>workingday</th>\n",
       "      <th>weathersit</th>\n",
       "      <th>temp</th>\n",
       "      <th>atemp</th>\n",
       "      <th>hum</th>\n",
       "      <th>windspeed</th>\n",
       "      <th>casual</th>\n",
       "      <th>registered</th>\n",
       "      <th>cnt</th>\n",
       "    </tr>\n",
       "    <tr>\n",
       "      <th>instant</th>\n",
       "      <th></th>\n",
       "      <th></th>\n",
       "      <th></th>\n",
       "      <th></th>\n",
       "      <th></th>\n",
       "      <th></th>\n",
       "      <th></th>\n",
       "      <th></th>\n",
       "      <th></th>\n",
       "      <th></th>\n",
       "      <th></th>\n",
       "      <th></th>\n",
       "      <th></th>\n",
       "      <th></th>\n",
       "      <th></th>\n",
       "      <th></th>\n",
       "    </tr>\n",
       "  </thead>\n",
       "  <tbody>\n",
       "    <tr>\n",
       "      <th>1</th>\n",
       "      <td>2011-01-01</td>\n",
       "      <td>1</td>\n",
       "      <td>0</td>\n",
       "      <td>1</td>\n",
       "      <td>0</td>\n",
       "      <td>0</td>\n",
       "      <td>6</td>\n",
       "      <td>0</td>\n",
       "      <td>1</td>\n",
       "      <td>0.24</td>\n",
       "      <td>0.2879</td>\n",
       "      <td>0.81</td>\n",
       "      <td>0.0</td>\n",
       "      <td>3</td>\n",
       "      <td>13</td>\n",
       "      <td>16</td>\n",
       "    </tr>\n",
       "    <tr>\n",
       "      <th>2</th>\n",
       "      <td>2011-01-01</td>\n",
       "      <td>1</td>\n",
       "      <td>0</td>\n",
       "      <td>1</td>\n",
       "      <td>1</td>\n",
       "      <td>0</td>\n",
       "      <td>6</td>\n",
       "      <td>0</td>\n",
       "      <td>1</td>\n",
       "      <td>0.22</td>\n",
       "      <td>0.2727</td>\n",
       "      <td>0.80</td>\n",
       "      <td>0.0</td>\n",
       "      <td>8</td>\n",
       "      <td>32</td>\n",
       "      <td>40</td>\n",
       "    </tr>\n",
       "    <tr>\n",
       "      <th>3</th>\n",
       "      <td>2011-01-01</td>\n",
       "      <td>1</td>\n",
       "      <td>0</td>\n",
       "      <td>1</td>\n",
       "      <td>2</td>\n",
       "      <td>0</td>\n",
       "      <td>6</td>\n",
       "      <td>0</td>\n",
       "      <td>1</td>\n",
       "      <td>0.22</td>\n",
       "      <td>0.2727</td>\n",
       "      <td>0.80</td>\n",
       "      <td>0.0</td>\n",
       "      <td>5</td>\n",
       "      <td>27</td>\n",
       "      <td>32</td>\n",
       "    </tr>\n",
       "    <tr>\n",
       "      <th>4</th>\n",
       "      <td>2011-01-01</td>\n",
       "      <td>1</td>\n",
       "      <td>0</td>\n",
       "      <td>1</td>\n",
       "      <td>3</td>\n",
       "      <td>0</td>\n",
       "      <td>6</td>\n",
       "      <td>0</td>\n",
       "      <td>1</td>\n",
       "      <td>0.24</td>\n",
       "      <td>0.2879</td>\n",
       "      <td>0.75</td>\n",
       "      <td>0.0</td>\n",
       "      <td>3</td>\n",
       "      <td>10</td>\n",
       "      <td>13</td>\n",
       "    </tr>\n",
       "    <tr>\n",
       "      <th>5</th>\n",
       "      <td>2011-01-01</td>\n",
       "      <td>1</td>\n",
       "      <td>0</td>\n",
       "      <td>1</td>\n",
       "      <td>4</td>\n",
       "      <td>0</td>\n",
       "      <td>6</td>\n",
       "      <td>0</td>\n",
       "      <td>1</td>\n",
       "      <td>0.24</td>\n",
       "      <td>0.2879</td>\n",
       "      <td>0.75</td>\n",
       "      <td>0.0</td>\n",
       "      <td>0</td>\n",
       "      <td>1</td>\n",
       "      <td>1</td>\n",
       "    </tr>\n",
       "  </tbody>\n",
       "</table>\n",
       "</div>"
      ],
      "text/plain": [
       "             dteday  season  yr  mnth  hr  holiday  weekday  workingday  \\\n",
       "instant                                                                   \n",
       "1        2011-01-01       1   0     1   0        0        6           0   \n",
       "2        2011-01-01       1   0     1   1        0        6           0   \n",
       "3        2011-01-01       1   0     1   2        0        6           0   \n",
       "4        2011-01-01       1   0     1   3        0        6           0   \n",
       "5        2011-01-01       1   0     1   4        0        6           0   \n",
       "\n",
       "         weathersit  temp   atemp   hum  windspeed  casual  registered  cnt  \n",
       "instant                                                                      \n",
       "1                 1  0.24  0.2879  0.81        0.0       3          13   16  \n",
       "2                 1  0.22  0.2727  0.80        0.0       8          32   40  \n",
       "3                 1  0.22  0.2727  0.80        0.0       5          27   32  \n",
       "4                 1  0.24  0.2879  0.75        0.0       3          10   13  \n",
       "5                 1  0.24  0.2879  0.75        0.0       0           1    1  "
      ]
     },
     "execution_count": 3,
     "metadata": {},
     "output_type": "execute_result"
    }
   ],
   "source": [
    "df = pd.read_csv('hour.csv', index_col = 0)\n",
    "df.head()"
   ]
  },
  {
   "cell_type": "code",
   "execution_count": 4,
   "id": "905a4b09",
   "metadata": {},
   "outputs": [
    {
     "name": "stdout",
     "output_type": "stream",
     "text": [
      "<class 'pandas.core.frame.DataFrame'>\n",
      "Index: 17379 entries, 1 to 17379\n",
      "Data columns (total 16 columns):\n",
      " #   Column      Non-Null Count  Dtype  \n",
      "---  ------      --------------  -----  \n",
      " 0   dteday      17379 non-null  object \n",
      " 1   season      17379 non-null  int64  \n",
      " 2   yr          17379 non-null  int64  \n",
      " 3   mnth        17379 non-null  int64  \n",
      " 4   hr          17379 non-null  int64  \n",
      " 5   holiday     17379 non-null  int64  \n",
      " 6   weekday     17379 non-null  int64  \n",
      " 7   workingday  17379 non-null  int64  \n",
      " 8   weathersit  17379 non-null  int64  \n",
      " 9   temp        17379 non-null  float64\n",
      " 10  atemp       17379 non-null  float64\n",
      " 11  hum         17379 non-null  float64\n",
      " 12  windspeed   17379 non-null  float64\n",
      " 13  casual      17379 non-null  int64  \n",
      " 14  registered  17379 non-null  int64  \n",
      " 15  cnt         17379 non-null  int64  \n",
      "dtypes: float64(4), int64(11), object(1)\n",
      "memory usage: 2.3+ MB\n"
     ]
    }
   ],
   "source": [
    "df.info()"
   ]
  },
  {
   "cell_type": "code",
   "execution_count": 5,
   "id": "3d458d3b",
   "metadata": {
    "scrolled": false
   },
   "outputs": [
    {
     "data": {
      "text/html": [
       "<div>\n",
       "<style scoped>\n",
       "    .dataframe tbody tr th:only-of-type {\n",
       "        vertical-align: middle;\n",
       "    }\n",
       "\n",
       "    .dataframe tbody tr th {\n",
       "        vertical-align: top;\n",
       "    }\n",
       "\n",
       "    .dataframe thead th {\n",
       "        text-align: right;\n",
       "    }\n",
       "</style>\n",
       "<table border=\"1\" class=\"dataframe\">\n",
       "  <thead>\n",
       "    <tr style=\"text-align: right;\">\n",
       "      <th></th>\n",
       "      <th>season</th>\n",
       "      <th>yr</th>\n",
       "      <th>mnth</th>\n",
       "      <th>hr</th>\n",
       "      <th>holiday</th>\n",
       "      <th>weekday</th>\n",
       "      <th>workingday</th>\n",
       "      <th>weathersit</th>\n",
       "      <th>temp</th>\n",
       "      <th>atemp</th>\n",
       "      <th>hum</th>\n",
       "      <th>windspeed</th>\n",
       "      <th>casual</th>\n",
       "      <th>registered</th>\n",
       "      <th>cnt</th>\n",
       "    </tr>\n",
       "  </thead>\n",
       "  <tbody>\n",
       "    <tr>\n",
       "      <th>count</th>\n",
       "      <td>17379.000000</td>\n",
       "      <td>17379.000000</td>\n",
       "      <td>17379.000000</td>\n",
       "      <td>17379.000000</td>\n",
       "      <td>17379.000000</td>\n",
       "      <td>17379.000000</td>\n",
       "      <td>17379.000000</td>\n",
       "      <td>17379.000000</td>\n",
       "      <td>17379.000000</td>\n",
       "      <td>17379.000000</td>\n",
       "      <td>17379.000000</td>\n",
       "      <td>17379.000000</td>\n",
       "      <td>17379.000000</td>\n",
       "      <td>17379.000000</td>\n",
       "      <td>17379.000000</td>\n",
       "    </tr>\n",
       "    <tr>\n",
       "      <th>mean</th>\n",
       "      <td>2.501640</td>\n",
       "      <td>0.502561</td>\n",
       "      <td>6.537775</td>\n",
       "      <td>11.546752</td>\n",
       "      <td>0.028770</td>\n",
       "      <td>3.003683</td>\n",
       "      <td>0.682721</td>\n",
       "      <td>1.425283</td>\n",
       "      <td>0.496987</td>\n",
       "      <td>0.475775</td>\n",
       "      <td>0.627229</td>\n",
       "      <td>0.190098</td>\n",
       "      <td>35.676218</td>\n",
       "      <td>153.786869</td>\n",
       "      <td>189.463088</td>\n",
       "    </tr>\n",
       "    <tr>\n",
       "      <th>std</th>\n",
       "      <td>1.106918</td>\n",
       "      <td>0.500008</td>\n",
       "      <td>3.438776</td>\n",
       "      <td>6.914405</td>\n",
       "      <td>0.167165</td>\n",
       "      <td>2.005771</td>\n",
       "      <td>0.465431</td>\n",
       "      <td>0.639357</td>\n",
       "      <td>0.192556</td>\n",
       "      <td>0.171850</td>\n",
       "      <td>0.192930</td>\n",
       "      <td>0.122340</td>\n",
       "      <td>49.305030</td>\n",
       "      <td>151.357286</td>\n",
       "      <td>181.387599</td>\n",
       "    </tr>\n",
       "    <tr>\n",
       "      <th>min</th>\n",
       "      <td>1.000000</td>\n",
       "      <td>0.000000</td>\n",
       "      <td>1.000000</td>\n",
       "      <td>0.000000</td>\n",
       "      <td>0.000000</td>\n",
       "      <td>0.000000</td>\n",
       "      <td>0.000000</td>\n",
       "      <td>1.000000</td>\n",
       "      <td>0.020000</td>\n",
       "      <td>0.000000</td>\n",
       "      <td>0.000000</td>\n",
       "      <td>0.000000</td>\n",
       "      <td>0.000000</td>\n",
       "      <td>0.000000</td>\n",
       "      <td>1.000000</td>\n",
       "    </tr>\n",
       "    <tr>\n",
       "      <th>25%</th>\n",
       "      <td>2.000000</td>\n",
       "      <td>0.000000</td>\n",
       "      <td>4.000000</td>\n",
       "      <td>6.000000</td>\n",
       "      <td>0.000000</td>\n",
       "      <td>1.000000</td>\n",
       "      <td>0.000000</td>\n",
       "      <td>1.000000</td>\n",
       "      <td>0.340000</td>\n",
       "      <td>0.333300</td>\n",
       "      <td>0.480000</td>\n",
       "      <td>0.104500</td>\n",
       "      <td>4.000000</td>\n",
       "      <td>34.000000</td>\n",
       "      <td>40.000000</td>\n",
       "    </tr>\n",
       "    <tr>\n",
       "      <th>50%</th>\n",
       "      <td>3.000000</td>\n",
       "      <td>1.000000</td>\n",
       "      <td>7.000000</td>\n",
       "      <td>12.000000</td>\n",
       "      <td>0.000000</td>\n",
       "      <td>3.000000</td>\n",
       "      <td>1.000000</td>\n",
       "      <td>1.000000</td>\n",
       "      <td>0.500000</td>\n",
       "      <td>0.484800</td>\n",
       "      <td>0.630000</td>\n",
       "      <td>0.194000</td>\n",
       "      <td>17.000000</td>\n",
       "      <td>115.000000</td>\n",
       "      <td>142.000000</td>\n",
       "    </tr>\n",
       "    <tr>\n",
       "      <th>75%</th>\n",
       "      <td>3.000000</td>\n",
       "      <td>1.000000</td>\n",
       "      <td>10.000000</td>\n",
       "      <td>18.000000</td>\n",
       "      <td>0.000000</td>\n",
       "      <td>5.000000</td>\n",
       "      <td>1.000000</td>\n",
       "      <td>2.000000</td>\n",
       "      <td>0.660000</td>\n",
       "      <td>0.621200</td>\n",
       "      <td>0.780000</td>\n",
       "      <td>0.253700</td>\n",
       "      <td>48.000000</td>\n",
       "      <td>220.000000</td>\n",
       "      <td>281.000000</td>\n",
       "    </tr>\n",
       "    <tr>\n",
       "      <th>max</th>\n",
       "      <td>4.000000</td>\n",
       "      <td>1.000000</td>\n",
       "      <td>12.000000</td>\n",
       "      <td>23.000000</td>\n",
       "      <td>1.000000</td>\n",
       "      <td>6.000000</td>\n",
       "      <td>1.000000</td>\n",
       "      <td>4.000000</td>\n",
       "      <td>1.000000</td>\n",
       "      <td>1.000000</td>\n",
       "      <td>1.000000</td>\n",
       "      <td>0.850700</td>\n",
       "      <td>367.000000</td>\n",
       "      <td>886.000000</td>\n",
       "      <td>977.000000</td>\n",
       "    </tr>\n",
       "  </tbody>\n",
       "</table>\n",
       "</div>"
      ],
      "text/plain": [
       "             season            yr          mnth            hr       holiday  \\\n",
       "count  17379.000000  17379.000000  17379.000000  17379.000000  17379.000000   \n",
       "mean       2.501640      0.502561      6.537775     11.546752      0.028770   \n",
       "std        1.106918      0.500008      3.438776      6.914405      0.167165   \n",
       "min        1.000000      0.000000      1.000000      0.000000      0.000000   \n",
       "25%        2.000000      0.000000      4.000000      6.000000      0.000000   \n",
       "50%        3.000000      1.000000      7.000000     12.000000      0.000000   \n",
       "75%        3.000000      1.000000     10.000000     18.000000      0.000000   \n",
       "max        4.000000      1.000000     12.000000     23.000000      1.000000   \n",
       "\n",
       "            weekday    workingday    weathersit          temp         atemp  \\\n",
       "count  17379.000000  17379.000000  17379.000000  17379.000000  17379.000000   \n",
       "mean       3.003683      0.682721      1.425283      0.496987      0.475775   \n",
       "std        2.005771      0.465431      0.639357      0.192556      0.171850   \n",
       "min        0.000000      0.000000      1.000000      0.020000      0.000000   \n",
       "25%        1.000000      0.000000      1.000000      0.340000      0.333300   \n",
       "50%        3.000000      1.000000      1.000000      0.500000      0.484800   \n",
       "75%        5.000000      1.000000      2.000000      0.660000      0.621200   \n",
       "max        6.000000      1.000000      4.000000      1.000000      1.000000   \n",
       "\n",
       "                hum     windspeed        casual    registered           cnt  \n",
       "count  17379.000000  17379.000000  17379.000000  17379.000000  17379.000000  \n",
       "mean       0.627229      0.190098     35.676218    153.786869    189.463088  \n",
       "std        0.192930      0.122340     49.305030    151.357286    181.387599  \n",
       "min        0.000000      0.000000      0.000000      0.000000      1.000000  \n",
       "25%        0.480000      0.104500      4.000000     34.000000     40.000000  \n",
       "50%        0.630000      0.194000     17.000000    115.000000    142.000000  \n",
       "75%        0.780000      0.253700     48.000000    220.000000    281.000000  \n",
       "max        1.000000      0.850700    367.000000    886.000000    977.000000  "
      ]
     },
     "execution_count": 5,
     "metadata": {},
     "output_type": "execute_result"
    }
   ],
   "source": [
    "df.describe()"
   ]
  },
  {
   "cell_type": "code",
   "execution_count": 6,
   "id": "18e6f25d",
   "metadata": {},
   "outputs": [
    {
     "data": {
      "text/html": [
       "<div>\n",
       "<style scoped>\n",
       "    .dataframe tbody tr th:only-of-type {\n",
       "        vertical-align: middle;\n",
       "    }\n",
       "\n",
       "    .dataframe tbody tr th {\n",
       "        vertical-align: top;\n",
       "    }\n",
       "\n",
       "    .dataframe thead th {\n",
       "        text-align: right;\n",
       "    }\n",
       "</style>\n",
       "<table border=\"1\" class=\"dataframe\">\n",
       "  <thead>\n",
       "    <tr style=\"text-align: right;\">\n",
       "      <th></th>\n",
       "      <th>dteday</th>\n",
       "    </tr>\n",
       "  </thead>\n",
       "  <tbody>\n",
       "    <tr>\n",
       "      <th>count</th>\n",
       "      <td>17379</td>\n",
       "    </tr>\n",
       "    <tr>\n",
       "      <th>unique</th>\n",
       "      <td>731</td>\n",
       "    </tr>\n",
       "    <tr>\n",
       "      <th>top</th>\n",
       "      <td>2011-01-01</td>\n",
       "    </tr>\n",
       "    <tr>\n",
       "      <th>freq</th>\n",
       "      <td>24</td>\n",
       "    </tr>\n",
       "  </tbody>\n",
       "</table>\n",
       "</div>"
      ],
      "text/plain": [
       "            dteday\n",
       "count        17379\n",
       "unique         731\n",
       "top     2011-01-01\n",
       "freq            24"
      ]
     },
     "execution_count": 6,
     "metadata": {},
     "output_type": "execute_result"
    }
   ],
   "source": [
    "df.describe(include=[object])"
   ]
  },
  {
   "cell_type": "markdown",
   "id": "42e9cc4e",
   "metadata": {},
   "source": [
    "Пропущенных значений нет"
   ]
  },
  {
   "cell_type": "code",
   "execution_count": 7,
   "id": "8f7f5b9b",
   "metadata": {
    "scrolled": false
   },
   "outputs": [
    {
     "data": {
      "text/plain": [
       "dteday        0\n",
       "season        0\n",
       "yr            0\n",
       "mnth          0\n",
       "hr            0\n",
       "holiday       0\n",
       "weekday       0\n",
       "workingday    0\n",
       "weathersit    0\n",
       "temp          0\n",
       "atemp         0\n",
       "hum           0\n",
       "windspeed     0\n",
       "casual        0\n",
       "registered    0\n",
       "cnt           0\n",
       "dtype: int64"
      ]
     },
     "execution_count": 7,
     "metadata": {},
     "output_type": "execute_result"
    }
   ],
   "source": [
    "df.isnull().sum()"
   ]
  },
  {
   "cell_type": "markdown",
   "id": "6bcd1167",
   "metadata": {},
   "source": [
    "Извлечём день из признака dteday:"
   ]
  },
  {
   "cell_type": "code",
   "execution_count": 8,
   "id": "9033dbce",
   "metadata": {},
   "outputs": [
    {
     "data": {
      "text/html": [
       "<div>\n",
       "<style scoped>\n",
       "    .dataframe tbody tr th:only-of-type {\n",
       "        vertical-align: middle;\n",
       "    }\n",
       "\n",
       "    .dataframe tbody tr th {\n",
       "        vertical-align: top;\n",
       "    }\n",
       "\n",
       "    .dataframe thead th {\n",
       "        text-align: right;\n",
       "    }\n",
       "</style>\n",
       "<table border=\"1\" class=\"dataframe\">\n",
       "  <thead>\n",
       "    <tr style=\"text-align: right;\">\n",
       "      <th></th>\n",
       "      <th>season</th>\n",
       "      <th>yr</th>\n",
       "      <th>mnth</th>\n",
       "      <th>hr</th>\n",
       "      <th>holiday</th>\n",
       "      <th>weekday</th>\n",
       "      <th>workingday</th>\n",
       "      <th>weathersit</th>\n",
       "      <th>temp</th>\n",
       "      <th>atemp</th>\n",
       "      <th>hum</th>\n",
       "      <th>windspeed</th>\n",
       "      <th>casual</th>\n",
       "      <th>registered</th>\n",
       "      <th>cnt</th>\n",
       "      <th>day</th>\n",
       "    </tr>\n",
       "    <tr>\n",
       "      <th>instant</th>\n",
       "      <th></th>\n",
       "      <th></th>\n",
       "      <th></th>\n",
       "      <th></th>\n",
       "      <th></th>\n",
       "      <th></th>\n",
       "      <th></th>\n",
       "      <th></th>\n",
       "      <th></th>\n",
       "      <th></th>\n",
       "      <th></th>\n",
       "      <th></th>\n",
       "      <th></th>\n",
       "      <th></th>\n",
       "      <th></th>\n",
       "      <th></th>\n",
       "    </tr>\n",
       "  </thead>\n",
       "  <tbody>\n",
       "    <tr>\n",
       "      <th>1</th>\n",
       "      <td>1</td>\n",
       "      <td>0</td>\n",
       "      <td>1</td>\n",
       "      <td>0</td>\n",
       "      <td>0</td>\n",
       "      <td>6</td>\n",
       "      <td>0</td>\n",
       "      <td>1</td>\n",
       "      <td>0.24</td>\n",
       "      <td>0.2879</td>\n",
       "      <td>0.81</td>\n",
       "      <td>0.0000</td>\n",
       "      <td>3</td>\n",
       "      <td>13</td>\n",
       "      <td>16</td>\n",
       "      <td>1</td>\n",
       "    </tr>\n",
       "    <tr>\n",
       "      <th>2</th>\n",
       "      <td>1</td>\n",
       "      <td>0</td>\n",
       "      <td>1</td>\n",
       "      <td>1</td>\n",
       "      <td>0</td>\n",
       "      <td>6</td>\n",
       "      <td>0</td>\n",
       "      <td>1</td>\n",
       "      <td>0.22</td>\n",
       "      <td>0.2727</td>\n",
       "      <td>0.80</td>\n",
       "      <td>0.0000</td>\n",
       "      <td>8</td>\n",
       "      <td>32</td>\n",
       "      <td>40</td>\n",
       "      <td>1</td>\n",
       "    </tr>\n",
       "    <tr>\n",
       "      <th>3</th>\n",
       "      <td>1</td>\n",
       "      <td>0</td>\n",
       "      <td>1</td>\n",
       "      <td>2</td>\n",
       "      <td>0</td>\n",
       "      <td>6</td>\n",
       "      <td>0</td>\n",
       "      <td>1</td>\n",
       "      <td>0.22</td>\n",
       "      <td>0.2727</td>\n",
       "      <td>0.80</td>\n",
       "      <td>0.0000</td>\n",
       "      <td>5</td>\n",
       "      <td>27</td>\n",
       "      <td>32</td>\n",
       "      <td>1</td>\n",
       "    </tr>\n",
       "    <tr>\n",
       "      <th>4</th>\n",
       "      <td>1</td>\n",
       "      <td>0</td>\n",
       "      <td>1</td>\n",
       "      <td>3</td>\n",
       "      <td>0</td>\n",
       "      <td>6</td>\n",
       "      <td>0</td>\n",
       "      <td>1</td>\n",
       "      <td>0.24</td>\n",
       "      <td>0.2879</td>\n",
       "      <td>0.75</td>\n",
       "      <td>0.0000</td>\n",
       "      <td>3</td>\n",
       "      <td>10</td>\n",
       "      <td>13</td>\n",
       "      <td>1</td>\n",
       "    </tr>\n",
       "    <tr>\n",
       "      <th>5</th>\n",
       "      <td>1</td>\n",
       "      <td>0</td>\n",
       "      <td>1</td>\n",
       "      <td>4</td>\n",
       "      <td>0</td>\n",
       "      <td>6</td>\n",
       "      <td>0</td>\n",
       "      <td>1</td>\n",
       "      <td>0.24</td>\n",
       "      <td>0.2879</td>\n",
       "      <td>0.75</td>\n",
       "      <td>0.0000</td>\n",
       "      <td>0</td>\n",
       "      <td>1</td>\n",
       "      <td>1</td>\n",
       "      <td>1</td>\n",
       "    </tr>\n",
       "    <tr>\n",
       "      <th>...</th>\n",
       "      <td>...</td>\n",
       "      <td>...</td>\n",
       "      <td>...</td>\n",
       "      <td>...</td>\n",
       "      <td>...</td>\n",
       "      <td>...</td>\n",
       "      <td>...</td>\n",
       "      <td>...</td>\n",
       "      <td>...</td>\n",
       "      <td>...</td>\n",
       "      <td>...</td>\n",
       "      <td>...</td>\n",
       "      <td>...</td>\n",
       "      <td>...</td>\n",
       "      <td>...</td>\n",
       "      <td>...</td>\n",
       "    </tr>\n",
       "    <tr>\n",
       "      <th>17375</th>\n",
       "      <td>1</td>\n",
       "      <td>1</td>\n",
       "      <td>12</td>\n",
       "      <td>19</td>\n",
       "      <td>0</td>\n",
       "      <td>1</td>\n",
       "      <td>1</td>\n",
       "      <td>2</td>\n",
       "      <td>0.26</td>\n",
       "      <td>0.2576</td>\n",
       "      <td>0.60</td>\n",
       "      <td>0.1642</td>\n",
       "      <td>11</td>\n",
       "      <td>108</td>\n",
       "      <td>119</td>\n",
       "      <td>31</td>\n",
       "    </tr>\n",
       "    <tr>\n",
       "      <th>17376</th>\n",
       "      <td>1</td>\n",
       "      <td>1</td>\n",
       "      <td>12</td>\n",
       "      <td>20</td>\n",
       "      <td>0</td>\n",
       "      <td>1</td>\n",
       "      <td>1</td>\n",
       "      <td>2</td>\n",
       "      <td>0.26</td>\n",
       "      <td>0.2576</td>\n",
       "      <td>0.60</td>\n",
       "      <td>0.1642</td>\n",
       "      <td>8</td>\n",
       "      <td>81</td>\n",
       "      <td>89</td>\n",
       "      <td>31</td>\n",
       "    </tr>\n",
       "    <tr>\n",
       "      <th>17377</th>\n",
       "      <td>1</td>\n",
       "      <td>1</td>\n",
       "      <td>12</td>\n",
       "      <td>21</td>\n",
       "      <td>0</td>\n",
       "      <td>1</td>\n",
       "      <td>1</td>\n",
       "      <td>1</td>\n",
       "      <td>0.26</td>\n",
       "      <td>0.2576</td>\n",
       "      <td>0.60</td>\n",
       "      <td>0.1642</td>\n",
       "      <td>7</td>\n",
       "      <td>83</td>\n",
       "      <td>90</td>\n",
       "      <td>31</td>\n",
       "    </tr>\n",
       "    <tr>\n",
       "      <th>17378</th>\n",
       "      <td>1</td>\n",
       "      <td>1</td>\n",
       "      <td>12</td>\n",
       "      <td>22</td>\n",
       "      <td>0</td>\n",
       "      <td>1</td>\n",
       "      <td>1</td>\n",
       "      <td>1</td>\n",
       "      <td>0.26</td>\n",
       "      <td>0.2727</td>\n",
       "      <td>0.56</td>\n",
       "      <td>0.1343</td>\n",
       "      <td>13</td>\n",
       "      <td>48</td>\n",
       "      <td>61</td>\n",
       "      <td>31</td>\n",
       "    </tr>\n",
       "    <tr>\n",
       "      <th>17379</th>\n",
       "      <td>1</td>\n",
       "      <td>1</td>\n",
       "      <td>12</td>\n",
       "      <td>23</td>\n",
       "      <td>0</td>\n",
       "      <td>1</td>\n",
       "      <td>1</td>\n",
       "      <td>1</td>\n",
       "      <td>0.26</td>\n",
       "      <td>0.2727</td>\n",
       "      <td>0.65</td>\n",
       "      <td>0.1343</td>\n",
       "      <td>12</td>\n",
       "      <td>37</td>\n",
       "      <td>49</td>\n",
       "      <td>31</td>\n",
       "    </tr>\n",
       "  </tbody>\n",
       "</table>\n",
       "<p>17379 rows × 16 columns</p>\n",
       "</div>"
      ],
      "text/plain": [
       "         season  yr  mnth  hr  holiday  weekday  workingday  weathersit  temp  \\\n",
       "instant                                                                         \n",
       "1             1   0     1   0        0        6           0           1  0.24   \n",
       "2             1   0     1   1        0        6           0           1  0.22   \n",
       "3             1   0     1   2        0        6           0           1  0.22   \n",
       "4             1   0     1   3        0        6           0           1  0.24   \n",
       "5             1   0     1   4        0        6           0           1  0.24   \n",
       "...         ...  ..   ...  ..      ...      ...         ...         ...   ...   \n",
       "17375         1   1    12  19        0        1           1           2  0.26   \n",
       "17376         1   1    12  20        0        1           1           2  0.26   \n",
       "17377         1   1    12  21        0        1           1           1  0.26   \n",
       "17378         1   1    12  22        0        1           1           1  0.26   \n",
       "17379         1   1    12  23        0        1           1           1  0.26   \n",
       "\n",
       "          atemp   hum  windspeed  casual  registered  cnt  day  \n",
       "instant                                                         \n",
       "1        0.2879  0.81     0.0000       3          13   16    1  \n",
       "2        0.2727  0.80     0.0000       8          32   40    1  \n",
       "3        0.2727  0.80     0.0000       5          27   32    1  \n",
       "4        0.2879  0.75     0.0000       3          10   13    1  \n",
       "5        0.2879  0.75     0.0000       0           1    1    1  \n",
       "...         ...   ...        ...     ...         ...  ...  ...  \n",
       "17375    0.2576  0.60     0.1642      11         108  119   31  \n",
       "17376    0.2576  0.60     0.1642       8          81   89   31  \n",
       "17377    0.2576  0.60     0.1642       7          83   90   31  \n",
       "17378    0.2727  0.56     0.1343      13          48   61   31  \n",
       "17379    0.2727  0.65     0.1343      12          37   49   31  \n",
       "\n",
       "[17379 rows x 16 columns]"
      ]
     },
     "execution_count": 8,
     "metadata": {},
     "output_type": "execute_result"
    }
   ],
   "source": [
    "df['dteday'] = pd.to_datetime(df['dteday'])\n",
    "df['day'] = df['dteday'].dt.day\n",
    "df = df.drop(['dteday'], axis=1)\n",
    "df"
   ]
  },
  {
   "cell_type": "code",
   "execution_count": 10,
   "id": "a9dc8bcc",
   "metadata": {},
   "outputs": [
    {
     "data": {
      "text/plain": [
       "Index(['season', 'yr', 'mnth', 'hr', 'holiday', 'weekday', 'workingday',\n",
       "       'weathersit', 'temp', 'atemp', 'hum', 'windspeed', 'casual',\n",
       "       'registered', 'cnt', 'day'],\n",
       "      dtype='object')"
      ]
     },
     "execution_count": 10,
     "metadata": {},
     "output_type": "execute_result"
    }
   ],
   "source": [
    "df.columns"
   ]
  },
  {
   "cell_type": "markdown",
   "id": "8ebd8d85",
   "metadata": {},
   "source": [
    "Возьмём для обучения все признаки, кроме casual и registered, так как они являются производными от таргета и не входят в основной набор данных:"
   ]
  },
  {
   "cell_type": "code",
   "execution_count": 46,
   "id": "13effca6",
   "metadata": {},
   "outputs": [],
   "source": [
    "features = ['season', 'yr', 'mnth', 'hr', 'holiday', 'weekday', 'workingday',\n",
    "       'weathersit', 'temp', 'atemp', 'hum', 'windspeed', 'cnt', 'day']"
   ]
  },
  {
   "cell_type": "code",
   "execution_count": 47,
   "id": "ef6fbdce",
   "metadata": {},
   "outputs": [
    {
     "data": {
      "text/html": [
       "<div>\n",
       "<style scoped>\n",
       "    .dataframe tbody tr th:only-of-type {\n",
       "        vertical-align: middle;\n",
       "    }\n",
       "\n",
       "    .dataframe tbody tr th {\n",
       "        vertical-align: top;\n",
       "    }\n",
       "\n",
       "    .dataframe thead th {\n",
       "        text-align: right;\n",
       "    }\n",
       "</style>\n",
       "<table border=\"1\" class=\"dataframe\">\n",
       "  <thead>\n",
       "    <tr style=\"text-align: right;\">\n",
       "      <th></th>\n",
       "      <th>season</th>\n",
       "      <th>yr</th>\n",
       "      <th>mnth</th>\n",
       "      <th>hr</th>\n",
       "      <th>holiday</th>\n",
       "      <th>weekday</th>\n",
       "      <th>workingday</th>\n",
       "      <th>weathersit</th>\n",
       "      <th>temp</th>\n",
       "      <th>atemp</th>\n",
       "      <th>hum</th>\n",
       "      <th>windspeed</th>\n",
       "      <th>cnt</th>\n",
       "      <th>day</th>\n",
       "    </tr>\n",
       "    <tr>\n",
       "      <th>instant</th>\n",
       "      <th></th>\n",
       "      <th></th>\n",
       "      <th></th>\n",
       "      <th></th>\n",
       "      <th></th>\n",
       "      <th></th>\n",
       "      <th></th>\n",
       "      <th></th>\n",
       "      <th></th>\n",
       "      <th></th>\n",
       "      <th></th>\n",
       "      <th></th>\n",
       "      <th></th>\n",
       "      <th></th>\n",
       "    </tr>\n",
       "  </thead>\n",
       "  <tbody>\n",
       "    <tr>\n",
       "      <th>1</th>\n",
       "      <td>1</td>\n",
       "      <td>0</td>\n",
       "      <td>1</td>\n",
       "      <td>0</td>\n",
       "      <td>0</td>\n",
       "      <td>6</td>\n",
       "      <td>0</td>\n",
       "      <td>1</td>\n",
       "      <td>0.24</td>\n",
       "      <td>0.2879</td>\n",
       "      <td>0.81</td>\n",
       "      <td>0.0000</td>\n",
       "      <td>16</td>\n",
       "      <td>1</td>\n",
       "    </tr>\n",
       "    <tr>\n",
       "      <th>2</th>\n",
       "      <td>1</td>\n",
       "      <td>0</td>\n",
       "      <td>1</td>\n",
       "      <td>1</td>\n",
       "      <td>0</td>\n",
       "      <td>6</td>\n",
       "      <td>0</td>\n",
       "      <td>1</td>\n",
       "      <td>0.22</td>\n",
       "      <td>0.2727</td>\n",
       "      <td>0.80</td>\n",
       "      <td>0.0000</td>\n",
       "      <td>40</td>\n",
       "      <td>1</td>\n",
       "    </tr>\n",
       "    <tr>\n",
       "      <th>3</th>\n",
       "      <td>1</td>\n",
       "      <td>0</td>\n",
       "      <td>1</td>\n",
       "      <td>2</td>\n",
       "      <td>0</td>\n",
       "      <td>6</td>\n",
       "      <td>0</td>\n",
       "      <td>1</td>\n",
       "      <td>0.22</td>\n",
       "      <td>0.2727</td>\n",
       "      <td>0.80</td>\n",
       "      <td>0.0000</td>\n",
       "      <td>32</td>\n",
       "      <td>1</td>\n",
       "    </tr>\n",
       "    <tr>\n",
       "      <th>4</th>\n",
       "      <td>1</td>\n",
       "      <td>0</td>\n",
       "      <td>1</td>\n",
       "      <td>3</td>\n",
       "      <td>0</td>\n",
       "      <td>6</td>\n",
       "      <td>0</td>\n",
       "      <td>1</td>\n",
       "      <td>0.24</td>\n",
       "      <td>0.2879</td>\n",
       "      <td>0.75</td>\n",
       "      <td>0.0000</td>\n",
       "      <td>13</td>\n",
       "      <td>1</td>\n",
       "    </tr>\n",
       "    <tr>\n",
       "      <th>5</th>\n",
       "      <td>1</td>\n",
       "      <td>0</td>\n",
       "      <td>1</td>\n",
       "      <td>4</td>\n",
       "      <td>0</td>\n",
       "      <td>6</td>\n",
       "      <td>0</td>\n",
       "      <td>1</td>\n",
       "      <td>0.24</td>\n",
       "      <td>0.2879</td>\n",
       "      <td>0.75</td>\n",
       "      <td>0.0000</td>\n",
       "      <td>1</td>\n",
       "      <td>1</td>\n",
       "    </tr>\n",
       "    <tr>\n",
       "      <th>...</th>\n",
       "      <td>...</td>\n",
       "      <td>...</td>\n",
       "      <td>...</td>\n",
       "      <td>...</td>\n",
       "      <td>...</td>\n",
       "      <td>...</td>\n",
       "      <td>...</td>\n",
       "      <td>...</td>\n",
       "      <td>...</td>\n",
       "      <td>...</td>\n",
       "      <td>...</td>\n",
       "      <td>...</td>\n",
       "      <td>...</td>\n",
       "      <td>...</td>\n",
       "    </tr>\n",
       "    <tr>\n",
       "      <th>17375</th>\n",
       "      <td>1</td>\n",
       "      <td>1</td>\n",
       "      <td>12</td>\n",
       "      <td>19</td>\n",
       "      <td>0</td>\n",
       "      <td>1</td>\n",
       "      <td>1</td>\n",
       "      <td>2</td>\n",
       "      <td>0.26</td>\n",
       "      <td>0.2576</td>\n",
       "      <td>0.60</td>\n",
       "      <td>0.1642</td>\n",
       "      <td>119</td>\n",
       "      <td>31</td>\n",
       "    </tr>\n",
       "    <tr>\n",
       "      <th>17376</th>\n",
       "      <td>1</td>\n",
       "      <td>1</td>\n",
       "      <td>12</td>\n",
       "      <td>20</td>\n",
       "      <td>0</td>\n",
       "      <td>1</td>\n",
       "      <td>1</td>\n",
       "      <td>2</td>\n",
       "      <td>0.26</td>\n",
       "      <td>0.2576</td>\n",
       "      <td>0.60</td>\n",
       "      <td>0.1642</td>\n",
       "      <td>89</td>\n",
       "      <td>31</td>\n",
       "    </tr>\n",
       "    <tr>\n",
       "      <th>17377</th>\n",
       "      <td>1</td>\n",
       "      <td>1</td>\n",
       "      <td>12</td>\n",
       "      <td>21</td>\n",
       "      <td>0</td>\n",
       "      <td>1</td>\n",
       "      <td>1</td>\n",
       "      <td>1</td>\n",
       "      <td>0.26</td>\n",
       "      <td>0.2576</td>\n",
       "      <td>0.60</td>\n",
       "      <td>0.1642</td>\n",
       "      <td>90</td>\n",
       "      <td>31</td>\n",
       "    </tr>\n",
       "    <tr>\n",
       "      <th>17378</th>\n",
       "      <td>1</td>\n",
       "      <td>1</td>\n",
       "      <td>12</td>\n",
       "      <td>22</td>\n",
       "      <td>0</td>\n",
       "      <td>1</td>\n",
       "      <td>1</td>\n",
       "      <td>1</td>\n",
       "      <td>0.26</td>\n",
       "      <td>0.2727</td>\n",
       "      <td>0.56</td>\n",
       "      <td>0.1343</td>\n",
       "      <td>61</td>\n",
       "      <td>31</td>\n",
       "    </tr>\n",
       "    <tr>\n",
       "      <th>17379</th>\n",
       "      <td>1</td>\n",
       "      <td>1</td>\n",
       "      <td>12</td>\n",
       "      <td>23</td>\n",
       "      <td>0</td>\n",
       "      <td>1</td>\n",
       "      <td>1</td>\n",
       "      <td>1</td>\n",
       "      <td>0.26</td>\n",
       "      <td>0.2727</td>\n",
       "      <td>0.65</td>\n",
       "      <td>0.1343</td>\n",
       "      <td>49</td>\n",
       "      <td>31</td>\n",
       "    </tr>\n",
       "  </tbody>\n",
       "</table>\n",
       "<p>17379 rows × 14 columns</p>\n",
       "</div>"
      ],
      "text/plain": [
       "         season  yr  mnth  hr  holiday  weekday  workingday  weathersit  temp  \\\n",
       "instant                                                                         \n",
       "1             1   0     1   0        0        6           0           1  0.24   \n",
       "2             1   0     1   1        0        6           0           1  0.22   \n",
       "3             1   0     1   2        0        6           0           1  0.22   \n",
       "4             1   0     1   3        0        6           0           1  0.24   \n",
       "5             1   0     1   4        0        6           0           1  0.24   \n",
       "...         ...  ..   ...  ..      ...      ...         ...         ...   ...   \n",
       "17375         1   1    12  19        0        1           1           2  0.26   \n",
       "17376         1   1    12  20        0        1           1           2  0.26   \n",
       "17377         1   1    12  21        0        1           1           1  0.26   \n",
       "17378         1   1    12  22        0        1           1           1  0.26   \n",
       "17379         1   1    12  23        0        1           1           1  0.26   \n",
       "\n",
       "          atemp   hum  windspeed  cnt  day  \n",
       "instant                                     \n",
       "1        0.2879  0.81     0.0000   16    1  \n",
       "2        0.2727  0.80     0.0000   40    1  \n",
       "3        0.2727  0.80     0.0000   32    1  \n",
       "4        0.2879  0.75     0.0000   13    1  \n",
       "5        0.2879  0.75     0.0000    1    1  \n",
       "...         ...   ...        ...  ...  ...  \n",
       "17375    0.2576  0.60     0.1642  119   31  \n",
       "17376    0.2576  0.60     0.1642   89   31  \n",
       "17377    0.2576  0.60     0.1642   90   31  \n",
       "17378    0.2727  0.56     0.1343   61   31  \n",
       "17379    0.2727  0.65     0.1343   49   31  \n",
       "\n",
       "[17379 rows x 14 columns]"
      ]
     },
     "execution_count": 47,
     "metadata": {},
     "output_type": "execute_result"
    }
   ],
   "source": [
    "df1 = df.copy()\n",
    "df1 = df1[features]\n",
    "df1"
   ]
  },
  {
   "cell_type": "markdown",
   "id": "943f328e",
   "metadata": {},
   "source": [
    "Обработаем данные в столбцах season, hr и weathersit:"
   ]
  },
  {
   "cell_type": "code",
   "execution_count": 48,
   "id": "32c1ca29",
   "metadata": {},
   "outputs": [
    {
     "data": {
      "text/html": [
       "<div>\n",
       "<style scoped>\n",
       "    .dataframe tbody tr th:only-of-type {\n",
       "        vertical-align: middle;\n",
       "    }\n",
       "\n",
       "    .dataframe tbody tr th {\n",
       "        vertical-align: top;\n",
       "    }\n",
       "\n",
       "    .dataframe thead th {\n",
       "        text-align: right;\n",
       "    }\n",
       "</style>\n",
       "<table border=\"1\" class=\"dataframe\">\n",
       "  <thead>\n",
       "    <tr style=\"text-align: right;\">\n",
       "      <th></th>\n",
       "      <th>yr</th>\n",
       "      <th>mnth</th>\n",
       "      <th>holiday</th>\n",
       "      <th>weekday</th>\n",
       "      <th>workingday</th>\n",
       "      <th>temp</th>\n",
       "      <th>atemp</th>\n",
       "      <th>hum</th>\n",
       "      <th>windspeed</th>\n",
       "      <th>cnt</th>\n",
       "      <th>...</th>\n",
       "      <th>hr_18</th>\n",
       "      <th>hr_19</th>\n",
       "      <th>hr_20</th>\n",
       "      <th>hr_21</th>\n",
       "      <th>hr_22</th>\n",
       "      <th>hr_23</th>\n",
       "      <th>weathersit_1</th>\n",
       "      <th>weathersit_2</th>\n",
       "      <th>weathersit_3</th>\n",
       "      <th>weathersit_4</th>\n",
       "    </tr>\n",
       "    <tr>\n",
       "      <th>instant</th>\n",
       "      <th></th>\n",
       "      <th></th>\n",
       "      <th></th>\n",
       "      <th></th>\n",
       "      <th></th>\n",
       "      <th></th>\n",
       "      <th></th>\n",
       "      <th></th>\n",
       "      <th></th>\n",
       "      <th></th>\n",
       "      <th></th>\n",
       "      <th></th>\n",
       "      <th></th>\n",
       "      <th></th>\n",
       "      <th></th>\n",
       "      <th></th>\n",
       "      <th></th>\n",
       "      <th></th>\n",
       "      <th></th>\n",
       "      <th></th>\n",
       "      <th></th>\n",
       "    </tr>\n",
       "  </thead>\n",
       "  <tbody>\n",
       "    <tr>\n",
       "      <th>1</th>\n",
       "      <td>0</td>\n",
       "      <td>1</td>\n",
       "      <td>0</td>\n",
       "      <td>6</td>\n",
       "      <td>0</td>\n",
       "      <td>0.24</td>\n",
       "      <td>0.2879</td>\n",
       "      <td>0.81</td>\n",
       "      <td>0.0</td>\n",
       "      <td>16</td>\n",
       "      <td>...</td>\n",
       "      <td>0.0</td>\n",
       "      <td>0.0</td>\n",
       "      <td>0.0</td>\n",
       "      <td>0.0</td>\n",
       "      <td>0.0</td>\n",
       "      <td>0.0</td>\n",
       "      <td>1.0</td>\n",
       "      <td>0.0</td>\n",
       "      <td>0.0</td>\n",
       "      <td>0.0</td>\n",
       "    </tr>\n",
       "    <tr>\n",
       "      <th>2</th>\n",
       "      <td>0</td>\n",
       "      <td>1</td>\n",
       "      <td>0</td>\n",
       "      <td>6</td>\n",
       "      <td>0</td>\n",
       "      <td>0.22</td>\n",
       "      <td>0.2727</td>\n",
       "      <td>0.80</td>\n",
       "      <td>0.0</td>\n",
       "      <td>40</td>\n",
       "      <td>...</td>\n",
       "      <td>0.0</td>\n",
       "      <td>0.0</td>\n",
       "      <td>0.0</td>\n",
       "      <td>0.0</td>\n",
       "      <td>0.0</td>\n",
       "      <td>0.0</td>\n",
       "      <td>1.0</td>\n",
       "      <td>0.0</td>\n",
       "      <td>0.0</td>\n",
       "      <td>0.0</td>\n",
       "    </tr>\n",
       "    <tr>\n",
       "      <th>3</th>\n",
       "      <td>0</td>\n",
       "      <td>1</td>\n",
       "      <td>0</td>\n",
       "      <td>6</td>\n",
       "      <td>0</td>\n",
       "      <td>0.22</td>\n",
       "      <td>0.2727</td>\n",
       "      <td>0.80</td>\n",
       "      <td>0.0</td>\n",
       "      <td>32</td>\n",
       "      <td>...</td>\n",
       "      <td>0.0</td>\n",
       "      <td>0.0</td>\n",
       "      <td>0.0</td>\n",
       "      <td>0.0</td>\n",
       "      <td>0.0</td>\n",
       "      <td>0.0</td>\n",
       "      <td>1.0</td>\n",
       "      <td>0.0</td>\n",
       "      <td>0.0</td>\n",
       "      <td>0.0</td>\n",
       "    </tr>\n",
       "    <tr>\n",
       "      <th>4</th>\n",
       "      <td>0</td>\n",
       "      <td>1</td>\n",
       "      <td>0</td>\n",
       "      <td>6</td>\n",
       "      <td>0</td>\n",
       "      <td>0.24</td>\n",
       "      <td>0.2879</td>\n",
       "      <td>0.75</td>\n",
       "      <td>0.0</td>\n",
       "      <td>13</td>\n",
       "      <td>...</td>\n",
       "      <td>0.0</td>\n",
       "      <td>0.0</td>\n",
       "      <td>0.0</td>\n",
       "      <td>0.0</td>\n",
       "      <td>0.0</td>\n",
       "      <td>0.0</td>\n",
       "      <td>1.0</td>\n",
       "      <td>0.0</td>\n",
       "      <td>0.0</td>\n",
       "      <td>0.0</td>\n",
       "    </tr>\n",
       "    <tr>\n",
       "      <th>5</th>\n",
       "      <td>0</td>\n",
       "      <td>1</td>\n",
       "      <td>0</td>\n",
       "      <td>6</td>\n",
       "      <td>0</td>\n",
       "      <td>0.24</td>\n",
       "      <td>0.2879</td>\n",
       "      <td>0.75</td>\n",
       "      <td>0.0</td>\n",
       "      <td>1</td>\n",
       "      <td>...</td>\n",
       "      <td>0.0</td>\n",
       "      <td>0.0</td>\n",
       "      <td>0.0</td>\n",
       "      <td>0.0</td>\n",
       "      <td>0.0</td>\n",
       "      <td>0.0</td>\n",
       "      <td>1.0</td>\n",
       "      <td>0.0</td>\n",
       "      <td>0.0</td>\n",
       "      <td>0.0</td>\n",
       "    </tr>\n",
       "  </tbody>\n",
       "</table>\n",
       "<p>5 rows × 43 columns</p>\n",
       "</div>"
      ],
      "text/plain": [
       "         yr  mnth  holiday  weekday  workingday  temp   atemp   hum  \\\n",
       "instant                                                               \n",
       "1         0     1        0        6           0  0.24  0.2879  0.81   \n",
       "2         0     1        0        6           0  0.22  0.2727  0.80   \n",
       "3         0     1        0        6           0  0.22  0.2727  0.80   \n",
       "4         0     1        0        6           0  0.24  0.2879  0.75   \n",
       "5         0     1        0        6           0  0.24  0.2879  0.75   \n",
       "\n",
       "         windspeed  cnt  ...  hr_18  hr_19  hr_20  hr_21  hr_22  hr_23  \\\n",
       "instant                  ...                                             \n",
       "1              0.0   16  ...    0.0    0.0    0.0    0.0    0.0    0.0   \n",
       "2              0.0   40  ...    0.0    0.0    0.0    0.0    0.0    0.0   \n",
       "3              0.0   32  ...    0.0    0.0    0.0    0.0    0.0    0.0   \n",
       "4              0.0   13  ...    0.0    0.0    0.0    0.0    0.0    0.0   \n",
       "5              0.0    1  ...    0.0    0.0    0.0    0.0    0.0    0.0   \n",
       "\n",
       "         weathersit_1  weathersit_2  weathersit_3  weathersit_4  \n",
       "instant                                                          \n",
       "1                 1.0           0.0           0.0           0.0  \n",
       "2                 1.0           0.0           0.0           0.0  \n",
       "3                 1.0           0.0           0.0           0.0  \n",
       "4                 1.0           0.0           0.0           0.0  \n",
       "5                 1.0           0.0           0.0           0.0  \n",
       "\n",
       "[5 rows x 43 columns]"
      ]
     },
     "execution_count": 48,
     "metadata": {},
     "output_type": "execute_result"
    }
   ],
   "source": [
    "df1 = pd.get_dummies(df1, columns = ['season', 'hr', 'weathersit'], dtype=float)\n",
    "df1.head()"
   ]
  },
  {
   "cell_type": "code",
   "execution_count": 49,
   "id": "7e05bbf8",
   "metadata": {
    "id": "fxZtwBv71RCd"
   },
   "outputs": [],
   "source": [
    "X = df1.drop(['cnt'],axis=1)\n",
    "y = df1['cnt']"
   ]
  },
  {
   "cell_type": "code",
   "execution_count": 50,
   "id": "22135025",
   "metadata": {
    "id": "2IL3Np-A17-Z"
   },
   "outputs": [],
   "source": [
    "min_max_scaler = MinMaxScaler()\n",
    "X_scaled = min_max_scaler.fit_transform(X)"
   ]
  },
  {
   "cell_type": "markdown",
   "id": "5e22ba44",
   "metadata": {},
   "source": [
    "Разделим датасет на две части: тренировочную (70%) и тестовую (30%):"
   ]
  },
  {
   "cell_type": "code",
   "execution_count": 51,
   "id": "8b6b0d64",
   "metadata": {
    "colab": {
     "base_uri": "https://localhost:8080/"
    },
    "id": "qad4NFlW18e6",
    "outputId": "23ff20b6-fc76-4fc7-d0f0-b7c5d6b4c170"
   },
   "outputs": [],
   "source": [
    "X_train, X_test, y_train, y_test = train_test_split(X_scaled, y, test_size=0.3, random_state=77)"
   ]
  },
  {
   "cell_type": "markdown",
   "id": "e8f6e1e4",
   "metadata": {},
   "source": [
    "### Linear Regression"
   ]
  },
  {
   "cell_type": "markdown",
   "id": "952c6ad2",
   "metadata": {},
   "source": [
    "По умолчанию поставим n_jobs = -1 для распараллеливания работы. Подберем параметры fit_intercept, copy_X и positive:"
   ]
  },
  {
   "cell_type": "code",
   "execution_count": 85,
   "id": "3c5eb821",
   "metadata": {},
   "outputs": [
    {
     "name": "stdout",
     "output_type": "stream",
     "text": [
      "Best score: 0.684\n",
      "Best model: LinearRegression(n_jobs=-1)\n"
     ]
    }
   ],
   "source": [
    "parameters = {'fit_intercept': [True, False], 'copy_X': [True, False], 'positive':  [True, False]}\n",
    "model = LinearRegression(n_jobs = -1)\n",
    "gridForest = GridSearchCV(estimator=model, param_grid=parameters)\n",
    "gridForest.fit(X_train, y_train)\n",
    "print('Best score:', round(gridForest.best_score_,3))\n",
    "print('Best model:', gridForest.best_estimator_)"
   ]
  },
  {
   "cell_type": "markdown",
   "id": "a97e9b6a",
   "metadata": {},
   "source": [
    "Оптимальные значения параметров: fit_intercept = True, copy_X = True, positive = False. Эти значения стоят по умолчанию."
   ]
  },
  {
   "cell_type": "markdown",
   "id": "11780869",
   "metadata": {},
   "source": [
    "Построим модель LinearRegression с учетом подобранных параметров:"
   ]
  },
  {
   "cell_type": "code",
   "execution_count": 86,
   "id": "fba4081c",
   "metadata": {
    "colab": {
     "base_uri": "https://localhost:8080/",
     "height": 74
    },
    "id": "zYbHSS9r3cYz",
    "outputId": "1f912bf5-1e0e-416c-9ffc-e6f8a9b8b218"
   },
   "outputs": [
    {
     "data": {
      "text/plain": [
       "LinearRegression(n_jobs=-1)"
      ]
     },
     "execution_count": 86,
     "metadata": {},
     "output_type": "execute_result"
    }
   ],
   "source": [
    "linear_model = LinearRegression(n_jobs = -1)\n",
    "linear_model.fit(X_train,y_train)"
   ]
  },
  {
   "cell_type": "markdown",
   "id": "331a4a3e",
   "metadata": {},
   "source": [
    "Выводим метрики:"
   ]
  },
  {
   "cell_type": "code",
   "execution_count": 87,
   "id": "c715ec9d",
   "metadata": {
    "colab": {
     "base_uri": "https://localhost:8080/"
    },
    "id": "cd64vhyt3cuK",
    "outputId": "c3fba151-520d-4acf-de1d-88611bc109dd"
   },
   "outputs": [
    {
     "name": "stdout",
     "output_type": "stream",
     "text": [
      "Linear Regression Estimation:\n",
      "R2-score: 0.669\n",
      "MSE: 10725.116\n",
      "MAE: 75.819\n"
     ]
    }
   ],
   "source": [
    "preds = linear_model.predict(X_test)\n",
    "print('Linear Regression Estimation:')\n",
    "print('R2-score:',round(r2_score(y_test,preds),3))\n",
    "print('MSE:',round(mean_squared_error(y_test,preds),3))\n",
    "print('MAE:',round(mean_absolute_error(y_test,preds),3))"
   ]
  },
  {
   "cell_type": "markdown",
   "id": "020db4ac",
   "metadata": {},
   "source": [
    "Получим значимость признаков:"
   ]
  },
  {
   "cell_type": "code",
   "execution_count": 88,
   "id": "bacae5e2",
   "metadata": {
    "scrolled": true
   },
   "outputs": [
    {
     "name": "stdout",
     "output_type": "stream",
     "text": [
      "weight_0 = 1447911195504894.8\n",
      "weights =  [ 8.67030000e+01 -1.54650000e+01 -2.35950000e+01  1.37010000e+01\n",
      "  1.67100000e+00  1.19168000e+02  1.31228000e+02 -6.86540000e+01\n",
      " -2.76800000e+01 -5.88800000e+00 -3.30082474e+15 -3.30082474e+15\n",
      " -3.30082474e+15 -3.30082474e+15  1.61895837e+15  1.61895837e+15\n",
      "  1.61895837e+15  1.61895837e+15  1.61895837e+15  1.61895837e+15\n",
      "  1.61895837e+15  1.61895837e+15  1.61895837e+15  1.61895837e+15\n",
      "  1.61895837e+15  1.61895837e+15  1.61895837e+15  1.61895837e+15\n",
      "  1.61895837e+15  1.61895837e+15  1.61895837e+15  1.61895837e+15\n",
      "  1.61895837e+15  1.61895837e+15  1.61895837e+15  1.61895837e+15\n",
      "  1.61895837e+15  1.61895837e+15  2.33955172e+14  2.33955172e+14\n",
      "  2.33955172e+14  2.33955172e+14]\n"
     ]
    }
   ],
   "source": [
    "print('weight_0 =',np.round(linear_model.intercept_,3))\n",
    "print('weights = ',np.round(linear_model.coef_,3))"
   ]
  },
  {
   "cell_type": "markdown",
   "id": "92809bf4",
   "metadata": {},
   "source": [
    "### Вывод"
   ]
  },
  {
   "cell_type": "markdown",
   "id": "625ae15f",
   "metadata": {},
   "source": [
    "При создании модели LinearRegression использовались следующие гиперпараметры: n_jobs = -1. На тестовой выборке мы получили R2-score: 0.669, MSE: 10725.116, MAE: 75.819."
   ]
  },
  {
   "cell_type": "markdown",
   "id": "65454b76",
   "metadata": {},
   "source": [
    "### Polynomial Features"
   ]
  },
  {
   "cell_type": "markdown",
   "id": "318807c6",
   "metadata": {},
   "source": [
    "Для PolynomialFeatures возьмём degree, равное 2, так как модель обучается на 42 признаках и при большем значении degree может не хватить вычислительных мощностей."
   ]
  },
  {
   "cell_type": "code",
   "execution_count": 57,
   "id": "91ec5029",
   "metadata": {
    "id": "Ju7Gov0J5l4L"
   },
   "outputs": [],
   "source": [
    "quadratic = PolynomialFeatures(degree = 2)\n",
    "X_train_quadratic = quadratic.fit_transform(X_train)\n",
    "X_test_quadratic = quadratic.transform(X_test)"
   ]
  },
  {
   "cell_type": "code",
   "execution_count": 58,
   "id": "d5a2302a",
   "metadata": {
    "colab": {
     "base_uri": "https://localhost:8080/"
    },
    "id": "6VMr3mSN6Vmb",
    "outputId": "7a4d65e0-84af-485f-decf-a1927da7e9ad"
   },
   "outputs": [
    {
     "name": "stdout",
     "output_type": "stream",
     "text": [
      "(12165, 42)\n",
      "(12165, 946)\n"
     ]
    }
   ],
   "source": [
    "print(X_train.shape)\n",
    "print(X_train_quadratic.shape)"
   ]
  },
  {
   "cell_type": "markdown",
   "id": "f68206a8",
   "metadata": {},
   "source": [
    "Подберем параметры fit_intercept, copy_X и positive:"
   ]
  },
  {
   "cell_type": "code",
   "execution_count": 61,
   "id": "4d94a9ce",
   "metadata": {},
   "outputs": [
    {
     "name": "stdout",
     "output_type": "stream",
     "text": [
      "Best score: 0.816\n",
      "Best model: LinearRegression(fit_intercept=False, n_jobs=-1, positive=True)\n"
     ]
    }
   ],
   "source": [
    "parameters = {'fit_intercept': [True, False], 'copy_X': [True, False], 'positive':  [True, False]}\n",
    "model = LinearRegression(n_jobs = -1)\n",
    "gridForest = GridSearchCV(estimator=model, param_grid=parameters)\n",
    "gridForest.fit(X_train_quadratic, y_train)\n",
    "print('Best score:', round(gridForest.best_score_,3))\n",
    "print('Best model:', gridForest.best_estimator_)"
   ]
  },
  {
   "cell_type": "markdown",
   "id": "c51184dd",
   "metadata": {},
   "source": [
    "Оптимальные значения параметров: fit_intercept = False, copy_X = True, positive = True."
   ]
  },
  {
   "cell_type": "markdown",
   "id": "83ad0386",
   "metadata": {},
   "source": [
    "Построим модель LinearRegression с учетом подобранных параметров:"
   ]
  },
  {
   "cell_type": "code",
   "execution_count": 62,
   "id": "95f56731",
   "metadata": {
    "colab": {
     "base_uri": "https://localhost:8080/",
     "height": 74
    },
    "id": "BarXuEqv6qry",
    "outputId": "d393f363-5b7f-487c-b8f6-76eba7a51dfb",
    "scrolled": true
   },
   "outputs": [
    {
     "data": {
      "text/plain": [
       "LinearRegression(fit_intercept=False, n_jobs=-1, positive=True)"
      ]
     },
     "execution_count": 62,
     "metadata": {},
     "output_type": "execute_result"
    }
   ],
   "source": [
    "quadratic_model = LinearRegression(fit_intercept=False, n_jobs=-1, positive=True)\n",
    "quadratic_model.fit(X_train_quadratic,y_train)"
   ]
  },
  {
   "cell_type": "markdown",
   "id": "cfe20b49",
   "metadata": {},
   "source": [
    "Выводим метрики:"
   ]
  },
  {
   "cell_type": "code",
   "execution_count": 63,
   "id": "30f94b5e",
   "metadata": {
    "colab": {
     "base_uri": "https://localhost:8080/"
    },
    "id": "q1_NLq486-Bi",
    "outputId": "2b061ce7-0e64-4ccf-90a8-f77b5e122196"
   },
   "outputs": [
    {
     "name": "stdout",
     "output_type": "stream",
     "text": [
      "Cubic Regression Estimation:\n",
      "R2-score: 0.813\n",
      "MSE: 6067.548\n",
      "MAE: 53.043\n"
     ]
    }
   ],
   "source": [
    "preds = quadratic_model.predict(X_test_cube)\n",
    "print('QuadraticCubic Regression Estimation:')\n",
    "print('R2-score:',round(r2_score(y_test,preds),3))\n",
    "print('MSE:',round(mean_squared_error(y_test,preds),3))\n",
    "print('MAE:',round(mean_absolute_error(y_test,preds),3))"
   ]
  },
  {
   "cell_type": "markdown",
   "id": "51eb1215",
   "metadata": {},
   "source": [
    "Получим значимость признаков:"
   ]
  },
  {
   "cell_type": "code",
   "execution_count": 64,
   "id": "83710687",
   "metadata": {
    "scrolled": true
   },
   "outputs": [
    {
     "name": "stdout",
     "output_type": "stream",
     "text": [
      "weight_0 = 0.0\n",
      "weights =  [  0.      0.      0.      0.      0.      0.      0.      0.      0.\n",
      "   0.      0.      0.      0.      0.      0.      0.      0.      0.\n",
      "   0.      0.      0.      0.      0.      0.      0.      0.      0.\n",
      "   0.      0.      0.      0.      0.      0.      0.      0.      0.\n",
      "   0.      0.      0.      0.      0.      0.      0.      0.      0.\n",
      "   0.      0.      0.     48.898   0.      0.      0.      0.      0.\n",
      "   1.997   0.      4.114   0.      0.      0.      0.      0.      0.\n",
      "   1.208  56.291 147.428  79.368  50.181  70.454  94.069  74.297  77.136\n",
      "  84.277 111.052 161.514 146.18  103.702  55.962  33.215  19.507   2.527\n",
      "   4.247   0.      0.      0.      0.      0.      0.      0.      0.\n",
      "   0.      0.      0.      0.      0.      0.      0.      0.      0.\n",
      "   0.      0.      0.      0.      0.      0.      0.      0.      0.\n",
      "   0.      0.      0.     13.322   0.54   24.931   0.      0.      0.\n",
      "   0.      0.      0.      0.      0.      0.      0.      0.      0.\n",
      "   0.      0.      0.      0.      0.      0.      0.      0.      0.\n",
      "   4.023  17.71    0.      0.      0.      0.      0.      0.      0.\n",
      "   0.      5.893   0.      0.      1.909  49.915  27.296  37.01   39.555\n",
      "   0.      0.      0.      0.      0.      0.      0.      0.      0.\n",
      "   0.     15.606   0.797   0.      0.      0.      0.      0.      0.\n",
      "   0.      0.      0.      0.      0.      0.      7.615   0.      0.\n",
      "   0.      0.      0.      0.      0.      0.     24.248   3.831  23.667\n",
      "   5.723  16.021  39.388  35.022   0.      0.      0.      0.      0.\n",
      "   4.312  37.347  47.276   0.      0.      0.      0.      0.      0.\n",
      "   0.      0.      0.      0.      0.      0.      0.      0.      0.\n",
      "   0.      0.      0.      0.      0.     66.258 203.498 317.472  64.196\n",
      "   0.      0.      0.      0.      0.      0.      0.    151.844 167.717\n",
      "  83.146  48.316  26.97    6.56    0.      0.      0.      0.      0.\n",
      "   0.      0.      0.      0.      0.      0.      6.186   0.     30.38\n",
      "   5.136   0.      0.      0.      0.      0.      0.      0.      0.\n",
      "  26.292   0.      0.      0.      0.      0.     81.546 193.65  219.931\n",
      " 184.201 202.37  153.978 145.913 115.468  48.557  12.898  18.731   0.\n",
      "   0.      0.      0.      0.      0.      0.      0.      0.      0.\n",
      "   0.      0.      0.      0.      0.      0.      0.      0.      0.\n",
      "  24.328  61.154  82.923 118.685  86.552  83.436  16.812   0.      0.\n",
      "   0.      0.      0.      0.      0.      0.      0.      0.      0.\n",
      "   0.      0.      0.      0.      0.      0.      0.      0.      0.\n",
      "   0.      0.      0.      0.      0.      0.      0.      0.      0.\n",
      "   0.      0.      0.      0.      0.      0.      0.      0.      0.\n",
      "   0.      0.      0.      0.      0.      0.      0.      0.      0.\n",
      "   0.      0.      0.      0.      0.      0.      0.      0.      0.\n",
      "   0.      0.      0.      0.      0.      0.      0.      0.      0.\n",
      "   0.      0.      0.      0.      0.      0.      0.      0.      0.\n",
      "   0.      0.      0.      0.      0.      0.      0.      0.      0.\n",
      "   0.      0.      0.      0.      0.      0.      0.      0.      0.\n",
      "   0.      0.      0.      0.      0.      0.      0.      0.      0.\n",
      "   0.      0.      0.      0.      0.      0.      0.      0.      0.\n",
      "   0.      0.      0.      0.      0.      0.      0.      0.      2.664\n",
      "   4.503   0.64    0.      0.      0.      0.      0.      0.      0.\n",
      "   0.      0.      0.      0.      0.      0.      0.      0.      0.\n",
      "   0.      0.      0.      0.      0.      0.      0.      0.      0.\n",
      "   0.      0.      0.      5.478   0.      0.      0.      0.      0.\n",
      "   0.     20.311  55.159  35.448  37.495  52.809  57.002  70.348  60.946\n",
      "  68.321  64.546 109.02  125.125  74.889  44.66   19.665  10.064   4.157\n",
      "  21.402   0.      0.      0.      0.      0.     27.806  10.402   0.\n",
      "   0.      0.      0.     22.015  71.485  95.083  51.812  60.175  63.103\n",
      "  78.806  63.366  60.414  59.094  69.668 135.93  153.867 112.188  86.273\n",
      "  55.115  37.587  32.976   5.619   2.103   0.      0.      0.      0.\n",
      "   0.      0.      0.      0.      0.      0.     25.256  68.394  45.095\n",
      "  46.313  55.292  77.061  54.506  73.345  58.966  91.691 110.485  98.558\n",
      "  44.094  24.106  10.242   0.      0.     15.396   7.135   0.      0.\n",
      "   0.      0.      0.      0.      0.      0.      0.      0.      0.\n",
      "   0.      0.      0.      0.      0.      0.      0.      0.      0.\n",
      "   0.      0.      0.      0.      0.      0.     10.113   5.633   0.\n",
      "   0.      0.      0.      0.      0.      0.      0.      0.      0.\n",
      "   0.      0.      0.      0.      0.      0.      0.      0.      0.\n",
      "   0.      0.      0.      0.      0.      0.      0.      6.176   0.\n",
      "  12.51    0.      0.      0.      0.      0.      0.      0.      0.\n",
      "   0.      0.      0.      0.      0.      0.      0.      0.      0.\n",
      "   0.      0.      0.      0.      0.      0.      0.      1.191   0.\n",
      "   0.      0.      0.      0.      0.      0.      0.      0.      0.\n",
      "   0.      0.      0.      0.      0.      0.      0.      0.      0.\n",
      "   0.      0.      0.      0.      0.      0.      0.      0.      0.\n",
      "   0.      0.      0.      0.      0.      0.      0.      0.      0.\n",
      "   0.      0.      0.      0.      0.      0.      0.      0.      0.\n",
      "   0.      0.      0.      0.      0.      0.      0.      0.      0.\n",
      "   0.      0.      0.      0.      0.      0.      0.      0.      0.\n",
      "   0.      0.      0.      0.      0.      0.      0.      0.747   0.\n",
      "   0.      0.      0.      0.      0.      0.      0.      0.      0.\n",
      "   0.      0.      0.      0.      0.      0.      0.      0.      0.\n",
      "   0.      0.      0.      0.      0.      0.      0.      0.      0.\n",
      "   0.      0.      0.      0.      0.      0.      0.      0.      0.\n",
      "   0.      0.      0.      0.      0.      0.      0.      0.      0.\n",
      "   0.      0.      0.      0.      0.      0.      0.      0.      0.\n",
      "   0.      0.      0.      0.      0.      0.      0.      0.      0.\n",
      "   0.      0.      0.      0.      0.      0.      0.      0.      0.\n",
      "   0.      0.      0.      0.      0.      0.     41.523  42.433   0.\n",
      "   0.      0.      0.      0.      0.      0.      0.      0.      0.\n",
      "   0.      0.      0.      0.      0.      0.     57.277  45.77    0.\n",
      "   0.      0.      0.      0.      0.      0.      0.      0.      0.\n",
      "   0.      0.      0.      0.      0.     60.886  27.913   0.      0.\n",
      "   0.      0.      0.      0.      0.      0.      0.      0.      0.\n",
      "   0.      0.      0.     74.479  36.427   0.      0.      0.      0.\n",
      "   0.      0.      0.      0.      0.      0.      0.      0.      0.\n",
      "  93.982  46.987   0.      0.      0.      0.      0.      0.      0.\n",
      "   0.      0.      0.      0.      0.     71.305  33.219   0.      0.\n",
      "   0.      0.      0.      0.      0.      0.      0.      0.      0.\n",
      "  56.967  30.228   0.      0.      0.      0.      0.      0.      0.\n",
      "   0.      0.      0.     70.475  56.435   0.      0.      0.      0.\n",
      "   0.      0.      0.      0.      0.     62.72    2.597   0.      0.\n",
      "   0.      0.      0.      0.      0.      0.     36.51    0.      0.\n",
      "   0.      0.      0.      0.      0.      0.     21.208   0.      0.\n",
      "   0.      0.      0.      0.      0.     26.646   9.014   0.      0.\n",
      "   0.      0.      0.     16.299   0.      0.      0.      0.      0.\n",
      "   4.765   0.      0.      0.      0.      0.      0.      0.      0.\n",
      "   0.      0.      0.      0.      0.      0.      0.      0.      0.\n",
      "   0.   ]\n"
     ]
    }
   ],
   "source": [
    "print('weight_0 =', np.round(quadratic_model.intercept_, 3))\n",
    "print('weights = ', np.round(quadratic_model.coef_, 3))"
   ]
  },
  {
   "cell_type": "markdown",
   "id": "329cc031",
   "metadata": {},
   "source": [
    "### Вывод"
   ]
  },
  {
   "cell_type": "markdown",
   "id": "a0d6474d",
   "metadata": {},
   "source": [
    "При создании модели LinearRegression с PolynomialFeatures использовались следующие гиперпараметры: fit_intercept=False, n_jobs=-1, positive=True. На тестовой выборке мы получили R2-score: 0.813, MSE: 6067.548, MAE: 53.043."
   ]
  },
  {
   "cell_type": "markdown",
   "id": "2ef05dd3",
   "metadata": {},
   "source": [
    "### Random Forest"
   ]
  },
  {
   "cell_type": "code",
   "execution_count": 65,
   "id": "58c8bf8a",
   "metadata": {},
   "outputs": [],
   "source": [
    "X_train,X_test,y_train,y_test = train_test_split(X, y, test_size=0.3,random_state=77)"
   ]
  },
  {
   "cell_type": "markdown",
   "id": "cf7cd5a2",
   "metadata": {},
   "source": [
    "Подберем параметры n_estimators, max_features и max_depth:"
   ]
  },
  {
   "cell_type": "code",
   "execution_count": 68,
   "id": "0d4eb336",
   "metadata": {
    "scrolled": true
   },
   "outputs": [
    {
     "name": "stdout",
     "output_type": "stream",
     "text": [
      "Best score: 0.822\n",
      "Best model: RandomForestRegressor(max_depth=12, max_features=30, n_estimators=300,\n",
      "                      n_jobs=-1, random_state=77)\n"
     ]
    }
   ],
   "source": [
    "parameters = {'n_estimators': [200, 300, 400],\n",
    "              'max_features': [5, 15, 30, 40], 'max_depth': [3, 7, 9, 12]}\n",
    "model = RandomForestRegressor(n_jobs = -1, random_state = 77)\n",
    "gridForest = GridSearchCV(estimator=model, param_grid=parameters)\n",
    "gridForest.fit(X_train, y_train)\n",
    "print('Best score:', round(gridForest.best_score_,3))\n",
    "print('Best model:', gridForest.best_estimator_)"
   ]
  },
  {
   "cell_type": "markdown",
   "id": "805fc790",
   "metadata": {},
   "source": [
    "Оптимальные значения параметров: n_estimators = 300, max_features = 30, max_depth = 12."
   ]
  },
  {
   "cell_type": "markdown",
   "id": "e923ab99",
   "metadata": {},
   "source": [
    "Построим модель RandomForestRegressor с учетом подобранных параметров:"
   ]
  },
  {
   "cell_type": "code",
   "execution_count": 69,
   "id": "1bba2914",
   "metadata": {},
   "outputs": [
    {
     "data": {
      "text/plain": [
       "RandomForestRegressor(max_depth=12, max_features=30, n_estimators=300,\n",
       "                      n_jobs=-1, random_state=77)"
      ]
     },
     "execution_count": 69,
     "metadata": {},
     "output_type": "execute_result"
    }
   ],
   "source": [
    "forest_model = RandomForestRegressor(max_depth=12, max_features=30, n_estimators=300, n_jobs=-1, random_state=77)\n",
    "forest_model.fit(X_train, y_train)"
   ]
  },
  {
   "cell_type": "markdown",
   "id": "8d94b699",
   "metadata": {},
   "source": [
    "Выводим метрики:"
   ]
  },
  {
   "cell_type": "code",
   "execution_count": 70,
   "id": "85d74e40",
   "metadata": {
    "scrolled": true
   },
   "outputs": [
    {
     "name": "stdout",
     "output_type": "stream",
     "text": [
      "Random Forest Regression Estimation:\n",
      "R2-score: 0.831\n",
      "MSE: 5475.327\n",
      "MAE: 53.644\n"
     ]
    }
   ],
   "source": [
    "preds = forest_model.predict(X_test)\n",
    "print('Random Forest Regression Estimation:')\n",
    "print('R2-score:',round(r2_score(y_test,preds),3))\n",
    "print('MSE:',round(mean_squared_error(y_test,preds),3))\n",
    "print('MAE:',round(mean_absolute_error(y_test,preds),3))"
   ]
  },
  {
   "cell_type": "markdown",
   "id": "39af13b7",
   "metadata": {},
   "source": [
    "Получим значимость признаков:"
   ]
  },
  {
   "cell_type": "code",
   "execution_count": 71,
   "id": "bf97e1b8",
   "metadata": {},
   "outputs": [
    {
     "data": {
      "text/html": [
       "<div>\n",
       "<style scoped>\n",
       "    .dataframe tbody tr th:only-of-type {\n",
       "        vertical-align: middle;\n",
       "    }\n",
       "\n",
       "    .dataframe tbody tr th {\n",
       "        vertical-align: top;\n",
       "    }\n",
       "\n",
       "    .dataframe thead th {\n",
       "        text-align: right;\n",
       "    }\n",
       "</style>\n",
       "<table border=\"1\" class=\"dataframe\">\n",
       "  <thead>\n",
       "    <tr style=\"text-align: right;\">\n",
       "      <th></th>\n",
       "      <th>column</th>\n",
       "      <th>weight</th>\n",
       "    </tr>\n",
       "  </thead>\n",
       "  <tbody>\n",
       "    <tr>\n",
       "      <th>6</th>\n",
       "      <td>atemp</td>\n",
       "      <td>0.157266</td>\n",
       "    </tr>\n",
       "    <tr>\n",
       "      <th>31</th>\n",
       "      <td>hr_17</td>\n",
       "      <td>0.117113</td>\n",
       "    </tr>\n",
       "    <tr>\n",
       "      <th>32</th>\n",
       "      <td>hr_18</td>\n",
       "      <td>0.092182</td>\n",
       "    </tr>\n",
       "    <tr>\n",
       "      <th>7</th>\n",
       "      <td>hum</td>\n",
       "      <td>0.088267</td>\n",
       "    </tr>\n",
       "    <tr>\n",
       "      <th>0</th>\n",
       "      <td>yr</td>\n",
       "      <td>0.088178</td>\n",
       "    </tr>\n",
       "  </tbody>\n",
       "</table>\n",
       "</div>"
      ],
      "text/plain": [
       "   column    weight\n",
       "6   atemp  0.157266\n",
       "31  hr_17  0.117113\n",
       "32  hr_18  0.092182\n",
       "7     hum  0.088267\n",
       "0      yr  0.088178"
      ]
     },
     "execution_count": 71,
     "metadata": {},
     "output_type": "execute_result"
    }
   ],
   "source": [
    "weights = pd.DataFrame({'column': X_train.columns,\n",
    "                        'weight': forest_model.feature_importances_})\n",
    "weights.sort_values(by='weight', ascending=False).head()"
   ]
  },
  {
   "cell_type": "code",
   "execution_count": 72,
   "id": "dbb18d13",
   "metadata": {
    "scrolled": false
   },
   "outputs": [
    {
     "data": {
      "text/plain": [
       "<BarContainer object of 42 artists>"
      ]
     },
     "execution_count": 72,
     "metadata": {},
     "output_type": "execute_result"
    },
    {
     "data": {
      "image/png": "[encoded data removed]",
      "text/plain": [
       "<Figure size 1080x864 with 1 Axes>"
      ]
     },
     "metadata": {
      "needs_background": "light"
     },
     "output_type": "display_data"
    }
   ],
   "source": [
    "plt.figure(figsize=(15,12))\n",
    "plt.barh(y=weights['column'], width=weights['weight'])"
   ]
  },
  {
   "cell_type": "markdown",
   "id": "5a16322c",
   "metadata": {},
   "source": [
    "Визуализируем несколько деревьев решений:"
   ]
  },
  {
   "cell_type": "code",
   "execution_count": 73,
   "id": "8336a28c",
   "metadata": {},
   "outputs": [],
   "source": [
    "tree_0 = forest_model.estimators_[0]"
   ]
  },
  {
   "cell_type": "code",
   "execution_count": 74,
   "id": "cb2b63b4",
   "metadata": {},
   "outputs": [
    {
     "data": {
      "image/png": "[encoded data removed]",
      "text/plain": [
       "<Figure size 1800x1440 with 1 Axes>"
      ]
     },
     "metadata": {
      "needs_background": "light"
     },
     "output_type": "display_data"
    }
   ],
   "source": [
    "plt.figure(figsize=(25,20))\n",
    "tree.plot_tree(tree_0, feature_names=X_train.columns, max_depth = 2, filled = True)\n",
    "\n",
    "plt.show()"
   ]
  },
  {
   "cell_type": "code",
   "execution_count": 75,
   "id": "e558c367",
   "metadata": {
    "id": "fCVoGXOpzbcT"
   },
   "outputs": [],
   "source": [
    "tree_1 = forest_model.estimators_[1]"
   ]
  },
  {
   "cell_type": "code",
   "execution_count": 76,
   "id": "98e50678",
   "metadata": {
    "colab": {
     "base_uri": "https://localhost:8080/",
     "height": 730
    },
    "id": "mjKbLps4ziWb",
    "outputId": "d70548a9-a0c3-41e8-f47a-bfe792a43e46",
    "scrolled": false
   },
   "outputs": [
    {
     "data": {
      "image/png": "[encoded data removed]",
      "text/plain": [
       "<Figure size 1800x1440 with 1 Axes>"
      ]
     },
     "metadata": {
      "needs_background": "light"
     },
     "output_type": "display_data"
    }
   ],
   "source": [
    "plt.figure(figsize=(25,20))\n",
    "tree.plot_tree(tree_1, feature_names=X_train.columns, max_depth = 3, filled = True)\n",
    "\n",
    "plt.show()"
   ]
  },
  {
   "cell_type": "markdown",
   "id": "b828347e",
   "metadata": {},
   "source": [
    "### Вывод"
   ]
  },
  {
   "cell_type": "markdown",
   "id": "24a27198",
   "metadata": {},
   "source": [
    "При создании модели RandomForestRegressor использовались следующие гиперпараметры: max_depth=12, max_features=30, n_estimators=300, n_jobs=-1, random_state=77. На тестовой выборке мы получили R2-score: 0.831, MSE: 5475.327, MAE: 53.644.\n",
    "\n",
    "При анализе значимости признаков мы выяснили, что наибольшее влияние на предсказание таргета оказывают следующие признаки: atemp, hr_17, hr_18, hum, yr.\t"
   ]
  },
  {
   "cell_type": "markdown",
   "id": "7fa3f51c",
   "metadata": {},
   "source": [
    "### Gradient Boosting"
   ]
  },
  {
   "cell_type": "code",
   "execution_count": 77,
   "id": "c6485d9b",
   "metadata": {},
   "outputs": [],
   "source": [
    "min_max_scaler = MinMaxScaler()\n",
    "X_scaled = min_max_scaler.fit_transform(X)"
   ]
  },
  {
   "cell_type": "code",
   "execution_count": 78,
   "id": "6b122ca7",
   "metadata": {},
   "outputs": [],
   "source": [
    "X_train,X_test,y_train,y_test = train_test_split(X_scaled, y, test_size=0.3,random_state=77)"
   ]
  },
  {
   "cell_type": "markdown",
   "id": "e7c0143c",
   "metadata": {},
   "source": [
    "Подберем параметры loss и learning_rate:"
   ]
  },
  {
   "cell_type": "code",
   "execution_count": 79,
   "id": "bd0c05f1",
   "metadata": {},
   "outputs": [
    {
     "name": "stdout",
     "output_type": "stream",
     "text": [
      "Best score: 0.91\n",
      "Best model: GradientBoostingRegressor(learning_rate=0.5, random_state=77)\n"
     ]
    }
   ],
   "source": [
    "parameters = {'loss': ['squared_error', 'absolute_error', 'huber', 'quantile'],\n",
    "              'learning_rate': [0.01, 0.1, 0.5, 1]}\n",
    "model = GradientBoostingRegressor(random_state = 77)\n",
    "gridForest = GridSearchCV(estimator=model, param_grid=parameters)\n",
    "gridForest.fit(X_train, y_train)\n",
    "print('Best score:', round(gridForest.best_score_,3))\n",
    "print('Best model:', gridForest.best_estimator_)"
   ]
  },
  {
   "cell_type": "markdown",
   "id": "1893fea2",
   "metadata": {},
   "source": [
    "Оптимальные значения параметра learning_rate = 0.5."
   ]
  },
  {
   "cell_type": "markdown",
   "id": "7c0ce73a",
   "metadata": {},
   "source": [
    "Подберем параметры n_estimators, max_features и max_depth:"
   ]
  },
  {
   "cell_type": "code",
   "execution_count": 80,
   "id": "30492827",
   "metadata": {},
   "outputs": [
    {
     "name": "stdout",
     "output_type": "stream",
     "text": [
      "Best score: 0.93\n",
      "Best model: GradientBoostingRegressor(learning_rate=0.5, max_features=40, n_estimators=400,\n",
      "                          random_state=77)\n"
     ]
    }
   ],
   "source": [
    "parameters = {'n_estimators': [200, 300, 400],\n",
    "              'max_features': [5, 15, 30, 40], 'max_depth': [3, 7, 9, 12]}\n",
    "model = GradientBoostingRegressor(learning_rate=0.5, random_state = 77)\n",
    "gridForest = GridSearchCV(estimator=model, param_grid=parameters)\n",
    "gridForest.fit(X_train, y_train)\n",
    "print('Best score:', round(gridForest.best_score_,3))\n",
    "print('Best model:', gridForest.best_estimator_)"
   ]
  },
  {
   "cell_type": "markdown",
   "id": "54960d85",
   "metadata": {},
   "source": [
    "Оптимальные значения параметров: n_estimators = 400, max_features = 30."
   ]
  },
  {
   "cell_type": "markdown",
   "id": "dff28877",
   "metadata": {},
   "source": [
    "Построим модель GradientBoostingRegressor с учетом подобранных параметров:"
   ]
  },
  {
   "cell_type": "code",
   "execution_count": 81,
   "id": "028ee345",
   "metadata": {
    "scrolled": true
   },
   "outputs": [
    {
     "data": {
      "text/plain": [
       "GradientBoostingRegressor(learning_rate=0.5, max_features=40, n_estimators=400,\n",
       "                          random_state=77)"
      ]
     },
     "execution_count": 81,
     "metadata": {},
     "output_type": "execute_result"
    }
   ],
   "source": [
    "gradient_model = GradientBoostingRegressor(learning_rate=0.5, max_features=40, n_estimators=400, random_state=77)\n",
    "gradient_model.fit(X_train, y_train)"
   ]
  },
  {
   "cell_type": "markdown",
   "id": "88954f13",
   "metadata": {},
   "source": [
    "Выводим метрики:"
   ]
  },
  {
   "cell_type": "code",
   "execution_count": 94,
   "id": "0362680c",
   "metadata": {},
   "outputs": [
    {
     "name": "stdout",
     "output_type": "stream",
     "text": [
      "Gradient Boosting Regression Estimation:\n",
      "R2-score: 0.931\n",
      "MSE: 2248.334\n",
      "MAE: 31.384\n"
     ]
    }
   ],
   "source": [
    "preds = gradient_model.predict(X_test)\n",
    "print('Gradient Boosting Regression Estimation:')\n",
    "print('R2-score:',round(r2_score(y_test,preds),3))\n",
    "print('MSE:',round(mean_squared_error(y_test,preds),3))\n",
    "print('MAE:',round(mean_absolute_error(y_test,preds),3))"
   ]
  },
  {
   "cell_type": "markdown",
   "id": "244a444c",
   "metadata": {},
   "source": [
    "Получим значимость признаков:"
   ]
  },
  {
   "cell_type": "code",
   "execution_count": 83,
   "id": "3e2a916f",
   "metadata": {},
   "outputs": [
    {
     "data": {
      "text/plain": [
       "<AxesSubplot:>"
      ]
     },
     "execution_count": 83,
     "metadata": {},
     "output_type": "execute_result"
    },
    {
     "data": {
      "image/png": "[encoded data removed]",
      "text/plain": [
       "<Figure size 1080x864 with 1 Axes>"
      ]
     },
     "metadata": {
      "needs_background": "light"
     },
     "output_type": "display_data"
    }
   ],
   "source": [
    "feature_importances = gradient_model.feature_importances_\n",
    "feature_importances_df = pd.DataFrame(feature_importances,\n",
    "                                      columns=['Importances'],\n",
    "                                      index = X.columns).sort_values('Importances', ascending=True)\n",
    "feature_importances_df[-10:].plot.barh(figsize=(15,12))"
   ]
  },
  {
   "cell_type": "markdown",
   "id": "499a22e8",
   "metadata": {},
   "source": [
    "### Вывод"
   ]
  },
  {
   "cell_type": "markdown",
   "id": "2bf2d162",
   "metadata": {},
   "source": [
    "При создании модели GradientBoostingRegressor использовались следующие гиперпараметры: learning_rate=0.5, max_features=40, n_estimators=400, random_state=77. На тестовой выборке мы получили R2-score: 0.931, MSE: 2248.334, MAE: 31.384.\n",
    "\n",
    "При анализе значимости признаков мы выяснили, что наибольшее влияние на предсказание таргета оказывают следующие признаки: atemp, workingday, hr_17, yr, hr_18."
   ]
  },
  {
   "cell_type": "markdown",
   "id": "4e84bf0e",
   "metadata": {},
   "source": [
    "### Общий вывод"
   ]
  },
  {
   "cell_type": "markdown",
   "id": "654c7b3e",
   "metadata": {},
   "source": [
    "Лучше всех показала себя модель GradientBoostingRegressor с R2-score = 0.931, MSE = 2248.334, MAE = 31.384.\n",
    "\n",
    "В моделях RandomForestRegressor и GradientBoostingRegressor были схожие самые значимые признаки (atemp, hr_17, yr, hr_18), но они имели разные веса в каждой модели."
   ]
  }
 ],
 "metadata": {
  "kernelspec": {
   "display_name": "Python 3 (ipykernel)",
   "language": "python",
   "name": "python3"
  },
  "language_info": {
   "codemirror_mode": {
    "name": "ipython",
    "version": 3
   },
   "file_extension": ".py",
   "mimetype": "text/x-python",
   "name": "python",
   "nbconvert_exporter": "python",
   "pygments_lexer": "ipython3",
   "version": "3.9.0"
  }
 },
 "nbformat": 4,
 "nbformat_minor": 5
}
